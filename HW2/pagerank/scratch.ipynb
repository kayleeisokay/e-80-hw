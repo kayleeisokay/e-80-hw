{
 "cells": [
  {
   "cell_type": "code",
   "execution_count": 11,
   "metadata": {},
   "outputs": [],
   "source": [
    "import os\n",
    "import random\n",
    "import re\n",
    "import sys\n",
    "\n",
    "DAMPING = 0.85\n",
    "SAMPLES = 10000\n",
    "\n",
    "\n",
    "def transition_model(corpus, page, damping_factor):\n",
    "    \"\"\"\n",
    "    Return a probability distribution over which page to visit next,\n",
    "    given a current page.\n",
    "\n",
    "    With probability `damping_factor`, choose a link at random\n",
    "    linked to by `page`. With probability `1 - damping_factor`, choose\n",
    "    a link at random chosen from all pages in the corpus.\n",
    "    \"\"\"\n",
    "\n",
    "    # If page has no outgoing links, then transition_model should\n",
    "    # return a probability distribution with all pages with equal probability\n",
    "    probability_dist = {}\n",
    "    if corpus.get(page) is None or len(corpus.get(page)) == 0:\n",
    "        for page in corpus:\n",
    "            probability_dist[page] = 1 / len(corpus)\n",
    "    else:\n",
    "        # Assign probability to linked pages, equally distributing\n",
    "        # damping factor among all linked pages\n",
    "        linked_pages = corpus.get(page)\n",
    "        num_linked_pages = len(linked_pages)\n",
    "        for linked_page in linked_pages:\n",
    "            probability_dist[linked_page] = damping_factor / num_linked_pages\n",
    "\n",
    "        # Distribute remaining probability to all pages\n",
    "        total_pages = len(corpus)\n",
    "        for page in corpus:\n",
    "            # Avoid key error\n",
    "            if page in probability_dist:\n",
    "                probability_dist[page] += (1 - damping_factor) / total_pages\n",
    "            else:\n",
    "                probability_dist[page] = (1 - damping_factor) / total_pages\n",
    "\n",
    "    return probability_dist\n",
    "\n",
    "\n",
    "def sample_pagerank(corpus, damping_factor, n):\n",
    "    \"\"\"\n",
    "    Return PageRank values for each page by sampling `n` pages\n",
    "    according to transition model, starting with a page at random.\n",
    "\n",
    "    Return a dictionary where keys are page names, and values are\n",
    "    their estimated PageRank value (a value between 0 and 1). All\n",
    "    PageRank values should sum to 1.\n",
    "    \"\"\"\n",
    "    sample_pages = []\n",
    "\n",
    "    # Random initialization\n",
    "    initial_page = random.choice(list(corpus.keys()))\n",
    "    curr_page = initial_page\n",
    "\n",
    "    for i in range(n):\n",
    "        transition_probs = transition_model(corpus, curr_page, damping_factor)\n",
    "\n",
    "        # population are the values\n",
    "        states = list(transition_probs.keys())\n",
    "        # weights are the probabilities\n",
    "        probs = list(transition_probs.values())\n",
    "\n",
    "        # Sample from categorical distribution\n",
    "        new_page = random.choices(states, probs, k=1)[0]\n",
    "        sample_pages.append(new_page)\n",
    "        curr_page = new_page\n",
    "\n",
    "    # Sum up unique values and divide by the toal\n",
    "    total = len(sample_pages)\n",
    "    count = {value: sample_pages.count(value) for value in set(sample_pages)}\n",
    "\n",
    "    probability_dist = {key: count[key] / total for key in count}\n",
    "\n",
    "    return probability_dist\n",
    "\n",
    "\n",
    "def iterate_pagerank(corpus, damping_factor):\n",
    "    \"\"\"\n",
    "    Return PageRank values for each page by iteratively updating\n",
    "    PageRank values until convergence.\n",
    "\n",
    "    Return a dictionary where keys are page names, and values are\n",
    "    their estimated PageRank value (a value between 0 and 1). All\n",
    "    PageRank values should sum to 1.\n",
    "    \"\"\"\n",
    "    page_ranks = {}\n",
    "    initial_rank = 1 / len(corpus)\n",
    "\n",
    "    for page in corpus:\n",
    "        page_ranks[page] = initial_rank\n",
    "\n",
    "    while True:\n",
    "\n",
    "        new_ranks = {}\n",
    "        for page in corpus:\n",
    "            new_rank = (1 - damping_factor) / len(corpus)\n",
    "            # Find inbound pages\n",
    "            for page_2 in corpus:\n",
    "                linked_pages = corpus[page_2]\n",
    "                # if page is an inbound page\n",
    "                if page in linked_pages:\n",
    "                    new_rank += damping_factor * page_ranks[page_2] / len(linked_pages)\n",
    "                # A page that has no links at all should be interpreted as\n",
    "                # having one link for every page in the corpus\n",
    "                elif len(linked_pages) == 0:\n",
    "                    new_rank += damping_factor * page_ranks[page_2] / len(corpus)\n",
    "            new_ranks[page] = new_rank\n",
    "\n",
    "        # update the new\n",
    "        diff = [abs(new_ranks[page] - page_ranks[page]) for page in page_ranks]\n",
    "        if all(d < 0.001 for d in diff):\n",
    "            break\n",
    "        page_ranks = new_ranks\n",
    "\n",
    "    return page_ranks"
   ]
  },
  {
   "cell_type": "code",
   "execution_count": 16,
   "metadata": {},
   "outputs": [],
   "source": [
    "corpus = {\"1.html\": {\"2.html\"}, \"2.html\": {\"3.html\"}, \"3.html\": {\"2.html\"}}"
   ]
  },
  {
   "cell_type": "code",
   "execution_count": 17,
   "metadata": {},
   "outputs": [
    {
     "data": {
      "text/plain": [
       "{'1.html': 0.05000000000000001,\n",
       " '2.html': 0.4870050337450496,\n",
       " '3.html': 0.46299496625495035}"
      ]
     },
     "execution_count": 17,
     "metadata": {},
     "output_type": "execute_result"
    }
   ],
   "source": [
    "iterate_pagerank(corpus, DAMPING)"
   ]
  },
  {
   "cell_type": "code",
   "execution_count": null,
   "metadata": {},
   "outputs": [
    {
     "data": {
      "text/plain": [
       "1.0"
      ]
     },
     "execution_count": 18,
     "metadata": {},
     "output_type": "execute_result"
    }
   ],
   "source": [
    "sum(iterate_pagerank(corpus, DAMPING).values())"
   ]
  },
  {
   "cell_type": "code",
   "execution_count": 19,
   "metadata": {},
   "outputs": [
    {
     "data": {
      "text/plain": [
       "{'1.html': 0.0498, '3.html': 0.4651, '2.html': 0.4851}"
      ]
     },
     "execution_count": 19,
     "metadata": {},
     "output_type": "execute_result"
    }
   ],
   "source": [
    "sample_pagerank(corpus, DAMPING, SAMPLES)"
   ]
  },
  {
   "cell_type": "code",
   "execution_count": 20,
   "metadata": {},
   "outputs": [
    {
     "data": {
      "text/plain": [
       "[0.5, 0.5]"
      ]
     },
     "execution_count": 20,
     "metadata": {},
     "output_type": "execute_result"
    }
   ],
   "source": [
    "import numpy as np\n",
    "\n",
    "test_list = [1, 1, 1, 2, 2, 2]\n",
    "\n",
    "list(np.unique(test_list, return_counts=True)[1] / len(test_list))"
   ]
  },
  {
   "cell_type": "code",
   "execution_count": null,
   "metadata": {},
   "outputs": [],
   "source": [
    "PageRank Results from Iteration\n",
    "  ai.html: 0.1884\n",
    "  algorithms.html: 0.1067\n",
    "  c.html: 0.1243\n",
    "  inference.html: 0.1291\n",
    "  logic.html: 0.0264\n",
    "  programming.html: 0.2293\n",
    "  python.html: 0.1243\n",
    "  recursion.html: 0.0716\n",
    "\n",
    "PageRank Results from Sampling (n = 10000)\n",
    "  ai.html: 0.1867\n",
    "  algorithms.html: 0.1087\n",
    "  c.html: 0.1262\n",
    "  inference.html: 0.1267\n",
    "  logic.html: 0.0251\n",
    "  programming.html: 0.2309\n",
    "  python.html: 0.1247\n",
    "  recursion.html: 0.0710"
   ]
  }
 ],
 "metadata": {
  "kernelspec": {
   "display_name": "Python 3",
   "language": "python",
   "name": "python3"
  },
  "language_info": {
   "codemirror_mode": {
    "name": "ipython",
    "version": 3
   },
   "file_extension": ".py",
   "mimetype": "text/x-python",
   "name": "python",
   "nbconvert_exporter": "python",
   "pygments_lexer": "ipython3",
   "version": "3.12.8"
  }
 },
 "nbformat": 4,
 "nbformat_minor": 2
}
